{
 "cells": [
  {
   "cell_type": "markdown",
   "metadata": {},
   "source": [
    "# Rating Prediction with Bipartite GNN"
   ]
  },
  {
   "cell_type": "markdown",
   "metadata": {},
   "source": [
    "## Data Processing"
   ]
  },
  {
   "cell_type": "code",
   "execution_count": 2,
   "metadata": {},
   "outputs": [],
   "source": [
    "import pandas as pd\n",
    "from sklearn.model_selection import train_test_split\n",
    "import matplotlib.pyplot as plt\n",
    "\n",
    "import collections as clt"
   ]
  },
  {
   "cell_type": "code",
   "execution_count": 5,
   "metadata": {},
   "outputs": [
    {
     "data": {
      "text/html": [
       "<div>\n",
       "<style scoped>\n",
       "    .dataframe tbody tr th:only-of-type {\n",
       "        vertical-align: middle;\n",
       "    }\n",
       "\n",
       "    .dataframe tbody tr th {\n",
       "        vertical-align: top;\n",
       "    }\n",
       "\n",
       "    .dataframe thead th {\n",
       "        text-align: right;\n",
       "    }\n",
       "</style>\n",
       "<table border=\"1\" class=\"dataframe\">\n",
       "  <thead>\n",
       "    <tr style=\"text-align: right;\">\n",
       "      <th></th>\n",
       "      <th>index</th>\n",
       "      <th>User</th>\n",
       "      <th>Release</th>\n",
       "      <th>Band</th>\n",
       "      <th>Score</th>\n",
       "      <th>Cleansed Text</th>\n",
       "    </tr>\n",
       "  </thead>\n",
       "  <tbody>\n",
       "    <tr>\n",
       "      <th>0</th>\n",
       "      <td>18</td>\n",
       "      <td>0</td>\n",
       "      <td>1011</td>\n",
       "      <td>1645</td>\n",
       "      <td>65</td>\n",
       "      <td>Here we are. The first studio release from Man...</td>\n",
       "    </tr>\n",
       "    <tr>\n",
       "      <th>1</th>\n",
       "      <td>22</td>\n",
       "      <td>0</td>\n",
       "      <td>1012</td>\n",
       "      <td>1646</td>\n",
       "      <td>80</td>\n",
       "      <td>The epic, Tolkien-inspired \"Nightfall In Middl...</td>\n",
       "    </tr>\n",
       "    <tr>\n",
       "      <th>2</th>\n",
       "      <td>26</td>\n",
       "      <td>1</td>\n",
       "      <td>1013</td>\n",
       "      <td>1647</td>\n",
       "      <td>75</td>\n",
       "      <td>After the first album was released, the fans q...</td>\n",
       "    </tr>\n",
       "    <tr>\n",
       "      <th>3</th>\n",
       "      <td>27</td>\n",
       "      <td>1</td>\n",
       "      <td>1014</td>\n",
       "      <td>1647</td>\n",
       "      <td>95</td>\n",
       "      <td>So comes the third album. Iron Maiden had enjo...</td>\n",
       "    </tr>\n",
       "    <tr>\n",
       "      <th>4</th>\n",
       "      <td>28</td>\n",
       "      <td>2</td>\n",
       "      <td>1015</td>\n",
       "      <td>1648</td>\n",
       "      <td>95</td>\n",
       "      <td>This debut LP of early Scandinavian blackmetal...</td>\n",
       "    </tr>\n",
       "    <tr>\n",
       "      <th>...</th>\n",
       "      <td>...</td>\n",
       "      <td>...</td>\n",
       "      <td>...</td>\n",
       "      <td>...</td>\n",
       "      <td>...</td>\n",
       "      <td>...</td>\n",
       "    </tr>\n",
       "    <tr>\n",
       "      <th>9336</th>\n",
       "      <td>93374</td>\n",
       "      <td>660</td>\n",
       "      <td>1256</td>\n",
       "      <td>1691</td>\n",
       "      <td>54</td>\n",
       "      <td>In 2003, what would your expectation of a Drea...</td>\n",
       "    </tr>\n",
       "    <tr>\n",
       "      <th>9337</th>\n",
       "      <td>93380</td>\n",
       "      <td>571</td>\n",
       "      <td>1188</td>\n",
       "      <td>2529</td>\n",
       "      <td>94</td>\n",
       "      <td>Another unsung hero from the US metal undergro...</td>\n",
       "    </tr>\n",
       "    <tr>\n",
       "      <th>9338</th>\n",
       "      <td>93386</td>\n",
       "      <td>660</td>\n",
       "      <td>1478</td>\n",
       "      <td>1932</td>\n",
       "      <td>60</td>\n",
       "      <td>I don’t think Hammerfall are a very complicate...</td>\n",
       "    </tr>\n",
       "    <tr>\n",
       "      <th>9339</th>\n",
       "      <td>93422</td>\n",
       "      <td>571</td>\n",
       "      <td>1352</td>\n",
       "      <td>1823</td>\n",
       "      <td>90</td>\n",
       "      <td>If you ask any metalhead around the world to m...</td>\n",
       "    </tr>\n",
       "    <tr>\n",
       "      <th>9340</th>\n",
       "      <td>93432</td>\n",
       "      <td>448</td>\n",
       "      <td>1050</td>\n",
       "      <td>1945</td>\n",
       "      <td>89</td>\n",
       "      <td>Chimaira is arguably the most overlooked and/o...</td>\n",
       "    </tr>\n",
       "  </tbody>\n",
       "</table>\n",
       "<p>9341 rows × 6 columns</p>\n",
       "</div>"
      ],
      "text/plain": [
       "      index  User  Release  Band  Score  \\\n",
       "0        18     0     1011  1645     65   \n",
       "1        22     0     1012  1646     80   \n",
       "2        26     1     1013  1647     75   \n",
       "3        27     1     1014  1647     95   \n",
       "4        28     2     1015  1648     95   \n",
       "...     ...   ...      ...   ...    ...   \n",
       "9336  93374   660     1256  1691     54   \n",
       "9337  93380   571     1188  2529     94   \n",
       "9338  93386   660     1478  1932     60   \n",
       "9339  93422   571     1352  1823     90   \n",
       "9340  93432   448     1050  1945     89   \n",
       "\n",
       "                                          Cleansed Text  \n",
       "0     Here we are. The first studio release from Man...  \n",
       "1     The epic, Tolkien-inspired \"Nightfall In Middl...  \n",
       "2     After the first album was released, the fans q...  \n",
       "3     So comes the third album. Iron Maiden had enjo...  \n",
       "4     This debut LP of early Scandinavian blackmetal...  \n",
       "...                                                 ...  \n",
       "9336  In 2003, what would your expectation of a Drea...  \n",
       "9337  Another unsung hero from the US metal undergro...  \n",
       "9338  I don’t think Hammerfall are a very complicate...  \n",
       "9339  If you ask any metalhead around the world to m...  \n",
       "9340  Chimaira is arguably the most overlooked and/o...  \n",
       "\n",
       "[9341 rows x 6 columns]"
      ]
     },
     "execution_count": 5,
     "metadata": {},
     "output_type": "execute_result"
    }
   ],
   "source": [
    "full_df = pd.read_csv('reviews_anonymized.csv')\n",
    "full_df"
   ]
  },
  {
   "cell_type": "code",
   "execution_count": 3,
   "metadata": {},
   "outputs": [],
   "source": [
    "def isNaN(x):\n",
    "    return x != x"
   ]
  },
  {
   "cell_type": "code",
   "execution_count": 4,
   "metadata": {},
   "outputs": [
    {
     "data": {
      "text/plain": [
       "(5028, 15583)"
      ]
     },
     "execution_count": 4,
     "metadata": {},
     "output_type": "execute_result"
    }
   ],
   "source": [
    "all_users = full_df['User'].unique()\n",
    "all_releases = full_df['Release'].unique()\n",
    "all_genres = [genre_list.split('|') if not isNaN(genre_list) else [] for genre_list in full_df['Combined_Genre'] ]\n",
    "\n",
    "N_USERS = len(all_users)\n",
    "N_RELEASES = len(all_releases)\n",
    "\n",
    "N_USERS, N_RELEASES"
   ]
  },
  {
   "cell_type": "code",
   "execution_count": 5,
   "metadata": {},
   "outputs": [
    {
     "data": {
      "text/plain": [
       "(21, 432831)"
      ]
     },
     "execution_count": 5,
     "metadata": {},
     "output_type": "execute_result"
    }
   ],
   "source": [
    "import pickle\n",
    "\n",
    "# genre_group stores a dictionary which maps the original genres into fewer genres\n",
    "# to reduce computational complexity\n",
    "\n",
    "with open('genre_group.p', 'rb') as f:\n",
    "    genre_group = pickle.load(f)\n",
    "    all_genres = set(genre_group.values())\n",
    "    genre2idx = {genre:i for i, genre in enumerate(all_genres)}\n",
    "    N_GENRES = len(all_genres)\n",
    "\n",
    "N_GENRES, (N_USERS + N_RELEASES) * N_GENRES"
   ]
  },
  {
   "cell_type": "code",
   "execution_count": 6,
   "metadata": {},
   "outputs": [
    {
     "data": {
      "text/html": [
       "<div>\n",
       "<style scoped>\n",
       "    .dataframe tbody tr th:only-of-type {\n",
       "        vertical-align: middle;\n",
       "    }\n",
       "\n",
       "    .dataframe tbody tr th {\n",
       "        vertical-align: top;\n",
       "    }\n",
       "\n",
       "    .dataframe thead th {\n",
       "        text-align: right;\n",
       "    }\n",
       "</style>\n",
       "<table border=\"1\" class=\"dataframe\">\n",
       "  <thead>\n",
       "    <tr style=\"text-align: right;\">\n",
       "      <th></th>\n",
       "      <th>index</th>\n",
       "      <th>User</th>\n",
       "      <th>Date</th>\n",
       "      <th>Year</th>\n",
       "      <th>Month</th>\n",
       "      <th>Release</th>\n",
       "      <th>Band</th>\n",
       "      <th>Combined_Genre</th>\n",
       "      <th>Score</th>\n",
       "    </tr>\n",
       "  </thead>\n",
       "  <tbody>\n",
       "    <tr>\n",
       "      <th>61658</th>\n",
       "      <td>86246</td>\n",
       "      <td>3437</td>\n",
       "      <td>May 15 2016</td>\n",
       "      <td>2016</td>\n",
       "      <td>5</td>\n",
       "      <td>8602</td>\n",
       "      <td>20645</td>\n",
       "      <td>heavy metal</td>\n",
       "      <td>63</td>\n",
       "    </tr>\n",
       "    <tr>\n",
       "      <th>21768</th>\n",
       "      <td>29264</td>\n",
       "      <td>687</td>\n",
       "      <td>June 28 2008</td>\n",
       "      <td>2008</td>\n",
       "      <td>6</td>\n",
       "      <td>13243</td>\n",
       "      <td>24681</td>\n",
       "      <td>death metal</td>\n",
       "      <td>75</td>\n",
       "    </tr>\n",
       "    <tr>\n",
       "      <th>53769</th>\n",
       "      <td>74032</td>\n",
       "      <td>508</td>\n",
       "      <td>April 26 2014</td>\n",
       "      <td>2014</td>\n",
       "      <td>4</td>\n",
       "      <td>19090</td>\n",
       "      <td>20718</td>\n",
       "      <td>us power metal|speed metal|thrash metal</td>\n",
       "      <td>85</td>\n",
       "    </tr>\n",
       "    <tr>\n",
       "      <th>2146</th>\n",
       "      <td>2588</td>\n",
       "      <td>112</td>\n",
       "      <td>November  8 2003</td>\n",
       "      <td>2003</td>\n",
       "      <td>11</td>\n",
       "      <td>6539</td>\n",
       "      <td>21370</td>\n",
       "      <td>thrash metal</td>\n",
       "      <td>97</td>\n",
       "    </tr>\n",
       "    <tr>\n",
       "      <th>817</th>\n",
       "      <td>960</td>\n",
       "      <td>60</td>\n",
       "      <td>February 16 2003</td>\n",
       "      <td>2003</td>\n",
       "      <td>2</td>\n",
       "      <td>5710</td>\n",
       "      <td>20964</td>\n",
       "      <td>thrash metal</td>\n",
       "      <td>89</td>\n",
       "    </tr>\n",
       "    <tr>\n",
       "      <th>...</th>\n",
       "      <td>...</td>\n",
       "      <td>...</td>\n",
       "      <td>...</td>\n",
       "      <td>...</td>\n",
       "      <td>...</td>\n",
       "      <td>...</td>\n",
       "      <td>...</td>\n",
       "      <td>...</td>\n",
       "      <td>...</td>\n",
       "    </tr>\n",
       "    <tr>\n",
       "      <th>37194</th>\n",
       "      <td>51180</td>\n",
       "      <td>1751</td>\n",
       "      <td>March 26 2011</td>\n",
       "      <td>2011</td>\n",
       "      <td>3</td>\n",
       "      <td>16538</td>\n",
       "      <td>20699</td>\n",
       "      <td>black metal|progressive metal|folk metal</td>\n",
       "      <td>80</td>\n",
       "    </tr>\n",
       "    <tr>\n",
       "      <th>6265</th>\n",
       "      <td>7952</td>\n",
       "      <td>431</td>\n",
       "      <td>January  7 2005</td>\n",
       "      <td>2005</td>\n",
       "      <td>1</td>\n",
       "      <td>5159</td>\n",
       "      <td>20701</td>\n",
       "      <td>symphonic metal</td>\n",
       "      <td>100</td>\n",
       "    </tr>\n",
       "    <tr>\n",
       "      <th>54886</th>\n",
       "      <td>75709</td>\n",
       "      <td>4389</td>\n",
       "      <td>July 24 2014</td>\n",
       "      <td>2014</td>\n",
       "      <td>7</td>\n",
       "      <td>19290</td>\n",
       "      <td>28325</td>\n",
       "      <td>thrash metal</td>\n",
       "      <td>80</td>\n",
       "    </tr>\n",
       "    <tr>\n",
       "      <th>860</th>\n",
       "      <td>1008</td>\n",
       "      <td>28</td>\n",
       "      <td>February 26 2003</td>\n",
       "      <td>2003</td>\n",
       "      <td>2</td>\n",
       "      <td>5744</td>\n",
       "      <td>20626</td>\n",
       "      <td>heavy metal</td>\n",
       "      <td>63</td>\n",
       "    </tr>\n",
       "    <tr>\n",
       "      <th>15795</th>\n",
       "      <td>20979</td>\n",
       "      <td>2047</td>\n",
       "      <td>August  1 2007</td>\n",
       "      <td>2007</td>\n",
       "      <td>8</td>\n",
       "      <td>11709</td>\n",
       "      <td>21544</td>\n",
       "      <td>black metal</td>\n",
       "      <td>90</td>\n",
       "    </tr>\n",
       "  </tbody>\n",
       "</table>\n",
       "<p>49296 rows × 9 columns</p>\n",
       "</div>"
      ],
      "text/plain": [
       "       index  User              Date  Year  Month  Release   Band  \\\n",
       "61658  86246  3437       May 15 2016  2016      5     8602  20645   \n",
       "21768  29264   687      June 28 2008  2008      6    13243  24681   \n",
       "53769  74032   508     April 26 2014  2014      4    19090  20718   \n",
       "2146    2588   112  November  8 2003  2003     11     6539  21370   \n",
       "817      960    60  February 16 2003  2003      2     5710  20964   \n",
       "...      ...   ...               ...   ...    ...      ...    ...   \n",
       "37194  51180  1751     March 26 2011  2011      3    16538  20699   \n",
       "6265    7952   431   January  7 2005  2005      1     5159  20701   \n",
       "54886  75709  4389      July 24 2014  2014      7    19290  28325   \n",
       "860     1008    28  February 26 2003  2003      2     5744  20626   \n",
       "15795  20979  2047    August  1 2007  2007      8    11709  21544   \n",
       "\n",
       "                                 Combined_Genre  Score  \n",
       "61658                               heavy metal     63  \n",
       "21768                               death metal     75  \n",
       "53769   us power metal|speed metal|thrash metal     85  \n",
       "2146                               thrash metal     97  \n",
       "817                                thrash metal     89  \n",
       "...                                         ...    ...  \n",
       "37194  black metal|progressive metal|folk metal     80  \n",
       "6265                            symphonic metal    100  \n",
       "54886                              thrash metal     80  \n",
       "860                                 heavy metal     63  \n",
       "15795                               black metal     90  \n",
       "\n",
       "[49296 rows x 9 columns]"
      ]
     },
     "execution_count": 6,
     "metadata": {},
     "output_type": "execute_result"
    }
   ],
   "source": [
    "train_df, test_df = train_test_split(full_df, shuffle=True,random_state=42)\n",
    "train_df"
   ]
  },
  {
   "cell_type": "code",
   "execution_count": 7,
   "metadata": {},
   "outputs": [
    {
     "name": "stdout",
     "output_type": "stream",
     "text": [
      "Processing Node Features\n"
     ]
    },
    {
     "name": "stderr",
     "output_type": "stream",
     "text": [
      "65728it [00:02, 32044.95it/s]\n"
     ]
    },
    {
     "name": "stdout",
     "output_type": "stream",
     "text": [
      "Generating Node Features\n"
     ]
    },
    {
     "name": "stderr",
     "output_type": "stream",
     "text": [
      "20611it [00:02, 7656.40it/s]\n"
     ]
    }
   ],
   "source": [
    "import torch\n",
    "from torch_geometric.data import Data\n",
    "import collections as clt\n",
    "from tqdm import tqdm\n",
    "\n",
    "def compute_node_features(df):\n",
    "    node2genres = [[]] * (N_USERS + N_RELEASES)\n",
    "    \n",
    "    print(\"Processing Node Features\")\n",
    "    for _, row in tqdm(df.iterrows()):\n",
    "        if not isNaN(row['Combined_Genre']):\n",
    "            genre_list = list(set([genre_group[x] for x in row['Combined_Genre'].split('|') if x in genre_group]))\n",
    "            node2genres[row['User']] += genre_list\n",
    "            node2genres[row['Release']] += genre_list\n",
    "\n",
    "    node2genres = [clt.Counter(genres) for genres in node2genres]\n",
    "\n",
    "    X = torch.zeros((N_USERS + N_RELEASES, N_GENRES))\n",
    "\n",
    "    print(\"Generating Node Features\")\n",
    "    for i, genres_count in tqdm(enumerate(node2genres)):\n",
    "        for genre in genres_count:\n",
    "            X[i][genre2idx[genre]] = genres_count[genre]\n",
    "    \n",
    "    return X\n",
    "\n",
    "node_features = compute_node_features(full_df)"
   ]
  },
  {
   "cell_type": "code",
   "execution_count": 8,
   "metadata": {},
   "outputs": [],
   "source": [
    "def process_data(df, X):\n",
    "    edge_index = []\n",
    "    edge_target = []\n",
    "    \n",
    "    print(\"Processing Edges and Targets\")\n",
    "    for _, row in tqdm(df.iterrows()):\n",
    "        edge_index.append([row['User'], row['Release']])\n",
    "        edge_target.append([row['Score']])\n",
    "\n",
    "    edge_index = torch.tensor(edge_index, dtype=torch.long).t().contiguous()\n",
    "    edge_target = torch.tensor(edge_target, dtype=torch.float)\n",
    "    data = Data(x=X, edge_index=edge_index, y=edge_target)\n",
    "    \n",
    "    return data"
   ]
  },
  {
   "cell_type": "code",
   "execution_count": 9,
   "metadata": {},
   "outputs": [],
   "source": [
    "from torch_geometric.data import InMemoryDataset\n",
    "\n",
    "class GraphDataset(InMemoryDataset):\n",
    "    def __init__(self, root, df, transform=None, pre_transform=None):\n",
    "        self.df = df\n",
    "        super(GraphDataset, self).__init__(root, transform, pre_transform)\n",
    "        self.data, self.slices = torch.load(self.processed_paths[0])\n",
    "\n",
    "    @property\n",
    "    def raw_file_names(self):\n",
    "        return []\n",
    "\n",
    "    @property\n",
    "    def processed_file_names(self):\n",
    "        return ['data.pt']\n",
    "\n",
    "    def download(self):\n",
    "        pass\n",
    "\n",
    "    def process(self):\n",
    "        data_list = [process_data(self.df, node_features)]\n",
    "        data, slices = self.collate(data_list)\n",
    "        torch.save((data, slices), self.processed_paths[0])\n",
    "\n",
    "train_dataset = GraphDataset('train',train_df)\n",
    "test_dataset = GraphDataset('test',test_df)"
   ]
  },
  {
   "cell_type": "code",
   "execution_count": 10,
   "metadata": {},
   "outputs": [
    {
     "name": "stdout",
     "output_type": "stream",
     "text": [
      "# Training Samples: 49296\n",
      "# Test Samples: 16432\n"
     ]
    }
   ],
   "source": [
    "from torch_geometric.loader import DataLoader\n",
    "\n",
    "data_size = len(train_dataset)\n",
    "BATCH_SIZE = 64\n",
    "train_loader = DataLoader(train_dataset,\n",
    "                          batch_size=BATCH_SIZE, shuffle=True)\n",
    "\n",
    "test_loader = DataLoader(test_dataset,\n",
    "                         batch_size=BATCH_SIZE, shuffle=False)\n",
    "\n",
    "print(f'# Training Samples: {len(train_dataset.y)}')\n",
    "print(f'# Test Samples: {len(test_loader.dataset.y)}')"
   ]
  },
  {
   "cell_type": "markdown",
   "metadata": {},
   "source": [
    "## Define GNN"
   ]
  },
  {
   "cell_type": "code",
   "execution_count": 11,
   "metadata": {},
   "outputs": [
    {
     "name": "stdout",
     "output_type": "stream",
     "text": [
      "BipartiteGNN(\n",
      "  (gcn_r2u): GCNConv(21, 64)\n",
      "  (gcn_u2r): GCNConv(64, 64)\n",
      "  (gated_convs): GatedGraphConv(64, num_layers=4)\n",
      "  (linear): Linear(in_features=128, out_features=1, bias=True)\n",
      ")\n",
      "Number of parameters:  47041\n"
     ]
    }
   ],
   "source": [
    "import torch.nn as nn\n",
    "import torch.nn.functional as F\n",
    "from torch_geometric.nn import GCNConv, GatedGraphConv\n",
    "\n",
    "\n",
    "\n",
    "class BipartiteGNN(nn.Module):\n",
    "    def __init__(self, in_channels, out_channels, hidden_size = 64):\n",
    "        super(BipartiteGNN, self).__init__()\n",
    "        \n",
    "        self.gcn_r2u = GCNConv(in_channels, hidden_size)\n",
    "        self.gcn_u2r = GCNConv(hidden_size, hidden_size)\n",
    "\n",
    "        self.gated_convs = GatedGraphConv(out_channels=hidden_size, num_layers=4)\n",
    "        \n",
    "\n",
    "        self.linear = nn.Linear(hidden_size * 2, out_channels)\n",
    "\n",
    "    def forward(self, x, edge_index):\n",
    "        x = self.gcn_r2u(x, edge_index)\n",
    "        x = F.relu(x)\n",
    "        x = self.gcn_u2r(x, edge_index[[1, 0]])\n",
    "        x = F.relu(x)\n",
    "\n",
    "        x = self.gated_convs(x, edge_index)\n",
    "        x = F.relu(x)\n",
    "\n",
    "        u, r = edge_index\n",
    "\n",
    "        x = torch.cat([x[u], x[r]], dim=1)\n",
    "\n",
    "        x = self.linear(x)\n",
    "\n",
    "        return x\n",
    "\n",
    "model = BipartiteGNN(N_GENRES, 1)\n",
    "print(model)\n",
    "print(\"Number of parameters: \", sum(p.numel() for p in model.parameters()))"
   ]
  },
  {
   "cell_type": "code",
   "execution_count": 12,
   "metadata": {},
   "outputs": [],
   "source": [
    "loss_fn = nn.MSELoss()\n",
    "optimizer = torch.optim.AdamW(model.parameters(), lr = 0.01)"
   ]
  },
  {
   "cell_type": "code",
   "execution_count": 13,
   "metadata": {},
   "outputs": [
    {
     "data": {
      "text/plain": [
       "device(type='cpu')"
      ]
     },
     "execution_count": 13,
     "metadata": {},
     "output_type": "execute_result"
    }
   ],
   "source": [
    "device = torch.device(\"cuda:0\" if torch.cuda.is_available() else \"cpu\")\n",
    "device"
   ]
  },
  {
   "cell_type": "markdown",
   "metadata": {},
   "source": [
    "## Train GNN"
   ]
  },
  {
   "cell_type": "code",
   "execution_count": 14,
   "metadata": {},
   "outputs": [],
   "source": [
    "def train():\n",
    "    model.train()\n",
    "    total_loss = 0.0\n",
    "    for batch in train_loader:\n",
    "        batch.to(device)\n",
    "        optimizer.zero_grad()\n",
    "        pred = model(batch.x.float(), batch.edge_index)\n",
    "        loss = loss_fn(pred.squeeze(), batch.y)\n",
    "        loss.backward()\n",
    "        optimizer.step()\n",
    "\n",
    "        total_loss += loss.item()\n",
    "\n",
    "    total_loss /= len(train_loader.dataset)\n",
    "    return total_loss\n",
    "\n",
    "def valid():\n",
    "    model.eval()\n",
    "    total_loss = 0.0\n",
    "\n",
    "    for batch in test_loader:\n",
    "        with torch.no_grad():\n",
    "            batch.to(device)\n",
    "            pred = model(batch.x.float(), batch.edge_index)\n",
    "            loss = loss_fn(pred.squeeze(), batch.y)\n",
    "            total_loss += loss.item()\n",
    "\n",
    "    total_loss /= len(test_loader.dataset)\n",
    "\n",
    "    return total_loss\n"
   ]
  },
  {
   "cell_type": "code",
   "execution_count": 15,
   "metadata": {},
   "outputs": [
    {
     "name": "stdout",
     "output_type": "stream",
     "text": [
      "Starting training...\n",
      "Epoch 0 / 300 | Train Loss 8621991936.00000 | Valid Loss 55772708.00000\n",
      "Epoch 10 / 300 | Train Loss 563668.25000 | Valid Loss 13994861.00000\n",
      "Epoch 20 / 300 | Train Loss 60726.67969 | Valid Loss 6547.12646\n",
      "Epoch 30 / 300 | Train Loss 86053792.00000 | Valid Loss 946871.87500\n",
      "Epoch 40 / 300 | Train Loss 4006647.00000 | Valid Loss 1274186.25000\n",
      "Epoch 50 / 300 | Train Loss 184699.93750 | Valid Loss 11823353.00000\n",
      "Epoch 60 / 300 | Train Loss 182933584.00000 | Valid Loss 29562894.00000\n",
      "Epoch 70 / 300 | Train Loss 2063816.75000 | Valid Loss 2224338.00000\n",
      "Epoch 80 / 300 | Train Loss 672640.68750 | Valid Loss 76031.27344\n",
      "Epoch 90 / 300 | Train Loss 82674.82812 | Valid Loss 8527.51074\n",
      "Epoch 100 / 300 | Train Loss 33475.71484 | Valid Loss 4689.21387\n",
      "Epoch 110 / 300 | Train Loss 16677.80859 | Valid Loss 3669.63086\n",
      "Epoch 120 / 300 | Train Loss 11634.62402 | Valid Loss 3529.27979\n",
      "Epoch 130 / 300 | Train Loss 9527.71680 | Valid Loss 3526.99121\n",
      "Epoch 140 / 300 | Train Loss 8367.62305 | Valid Loss 3540.09399\n",
      "Epoch 150 / 300 | Train Loss 7575.04980 | Valid Loss 3570.01709\n",
      "Epoch 160 / 300 | Train Loss 6959.90674 | Valid Loss 3605.18481\n",
      "Epoch 170 / 300 | Train Loss 6450.56787 | Valid Loss 3644.04858\n",
      "Epoch 180 / 300 | Train Loss 6017.49219 | Valid Loss 3685.61304\n",
      "Epoch 190 / 300 | Train Loss 5645.65723 | Valid Loss 3729.24341\n",
      "Epoch 200 / 300 | Train Loss 5325.89111 | Valid Loss 3774.23608\n",
      "Epoch 210 / 300 | Train Loss 5051.33057 | Valid Loss 3819.91724\n",
      "Epoch 220 / 300 | Train Loss 4815.05811 | Valid Loss 3864.96021\n",
      "Epoch 230 / 300 | Train Loss 4612.03564 | Valid Loss 3908.95752\n",
      "Epoch 240 / 300 | Train Loss 4439.70654 | Valid Loss 3954.67651\n",
      "Epoch 250 / 300 | Train Loss 4293.98340 | Valid Loss 3992.84985\n",
      "Epoch 260 / 300 | Train Loss 4165.82617 | Valid Loss 4029.50342\n",
      "Epoch 270 / 300 | Train Loss 4057.02686 | Valid Loss 4064.90405\n",
      "Epoch 280 / 300 | Train Loss 3963.30688 | Valid Loss 4093.32764\n",
      "Epoch 290 / 300 | Train Loss 3886.81909 | Valid Loss 4127.64551\n"
     ]
    }
   ],
   "source": [
    "import warnings\n",
    "warnings.filterwarnings(\"ignore\")\n",
    "\n",
    "\n",
    "EPOCHS = 300\n",
    "print(\"Starting training...\")\n",
    "train_losses = []\n",
    "valid_losses = []\n",
    "valid_accuracies = []\n",
    "\n",
    "for epoch in range(EPOCHS):\n",
    "    train_loss = train()\n",
    "    valid_loss = valid()\n",
    "    train_losses.append(train_loss)\n",
    "    valid_losses.append(valid_loss)\n",
    "\n",
    "    if epoch % 10 == 0:\n",
    "        print(f\"Epoch {epoch} / {EPOCHS} | Train Loss {train_loss:.5f} | Valid Loss {valid_loss:.5f}\")\n"
   ]
  },
  {
   "cell_type": "markdown",
   "metadata": {},
   "source": [
    "## Visualize Metrics"
   ]
  },
  {
   "cell_type": "code",
   "execution_count": 16,
   "metadata": {},
   "outputs": [
    {
     "data": {
      "image/png": "[encoded data removed]",
      "text/plain": [
       "<Figure size 640x480 with 1 Axes>"
      ]
     },
     "metadata": {},
     "output_type": "display_data"
    }
   ],
   "source": [
    "import seaborn as sns\n",
    "\n",
    "data = {\n",
    "    'Epoch': list(range(1, len(train_losses) + 1)) * 2,\n",
    "    'Loss': train_losses + valid_losses,\n",
    "    'Type': ['Train'] * len(train_losses) + ['Validation'] * len(valid_losses)\n",
    "}\n",
    "\n",
    "data_df = pd.DataFrame(data)\n",
    "\n",
    "sns.lineplot(data=data_df, x='Epoch', y='Loss', hue='Type')\n",
    "plt.yscale('log')\n",
    "plt.title('Training and Validation Loss')\n",
    "plt.show()"
   ]
  }
 ],
 "metadata": {
  "kernelspec": {
   "display_name": "Python 3",
   "language": "python",
   "name": "python3"
  },
  "language_info": {
   "codemirror_mode": {
    "name": "ipython",
    "version": 3
   },
   "file_extension": ".py",
   "mimetype": "text/x-python",
   "name": "python",
   "nbconvert_exporter": "python",
   "pygments_lexer": "ipython3",
   "version": "3.12.5"
  }
 },
 "nbformat": 4,
 "nbformat_minor": 2
}
